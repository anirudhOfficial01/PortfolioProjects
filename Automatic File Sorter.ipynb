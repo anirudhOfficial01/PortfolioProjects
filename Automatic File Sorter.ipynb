{
 "cells": [
  {
   "cell_type": "code",
   "execution_count": 13,
   "id": "51bc98c6-30e0-4f2f-abcc-7515a3f14ae9",
   "metadata": {},
   "outputs": [],
   "source": [
    "import os, shutil"
   ]
  },
  {
   "cell_type": "code",
   "execution_count": 14,
   "id": "5aec50fd-d017-4ea1-8696-2c020063a0d1",
   "metadata": {},
   "outputs": [],
   "source": [
    "parent_dir = r\"C:/Users/Admin/Documents/Anirudh/Data analysis projects data/PortfolioProjects\\FileSorter_Python/\""
   ]
  },
  {
   "cell_type": "code",
   "execution_count": 15,
   "id": "b710b660-455d-4082-a810-d6a01cf5c6bd",
   "metadata": {},
   "outputs": [],
   "source": [
    "file_name = os.listdir(parent_dir)"
   ]
  },
  {
   "cell_type": "code",
   "execution_count": 16,
   "id": "39348fb5-cc38-4244-b3a9-d5eaf610ea0a",
   "metadata": {},
   "outputs": [],
   "source": [
    "folder_names = ['csv files', 'image files', 'text files']\n",
    "\n",
    "for folder_name in folder_names:\n",
    "    if not os.path.exists(parent_dir + folder_name):\n",
    "        os.makedirs(parent_dir + folder_name)\n",
    "\n",
    "for file in file_name:\n",
    "    if \".csv\" in file and not os.path.exists(parent_dir + \"csv files/\" + file):\n",
    "        shutil.move(parent_dir + file, parent_dir + \"csv files/\" + file)\n",
    "    elif \".png\" in file and not os.path.exists(parent_dir + \"image files/\" + file):\n",
    "        shutil.move(parent_dir + file, parent_dir + \"image files/\" + file)\n",
    "    elif \".txt\" in file and not os.path.exists(parent_dir + \"text files/\" + file):\n",
    "        shutil.move(parent_dir + file, parent_dir + \"text files/\" + file)\n"
   ]
  },
  {
   "cell_type": "code",
   "execution_count": null,
   "id": "ecde9866-80be-470b-9a6f-74b6e574f43f",
   "metadata": {},
   "outputs": [],
   "source": []
  }
 ],
 "metadata": {
  "kernelspec": {
   "display_name": "Python 3 (ipykernel)",
   "language": "python",
   "name": "python3"
  },
  "language_info": {
   "codemirror_mode": {
    "name": "ipython",
    "version": 3
   },
   "file_extension": ".py",
   "mimetype": "text/x-python",
   "name": "python",
   "nbconvert_exporter": "python",
   "pygments_lexer": "ipython3",
   "version": "3.11.7"
  }
 },
 "nbformat": 4,
 "nbformat_minor": 5
}
